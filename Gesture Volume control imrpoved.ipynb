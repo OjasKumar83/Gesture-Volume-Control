{
 "cells": [
  {
   "cell_type": "code",
   "execution_count": 1,
   "id": "6bc91ff6-cea2-4455-8e62-0c9f16db30fb",
   "metadata": {},
   "outputs": [
    {
     "name": "stdout",
     "output_type": "stream",
     "text": [
      "Collecting pyforest\n",
      "  Downloading pyforest-1.1.2.tar.gz (17 kB)\n",
      "  Preparing metadata (setup.py): started\n",
      "  Preparing metadata (setup.py): finished with status 'done'\n",
      "Building wheels for collected packages: pyforest\n",
      "  Building wheel for pyforest (setup.py): started\n",
      "  Building wheel for pyforest (setup.py): finished with status 'done'\n",
      "  Created wheel for pyforest: filename=pyforest-1.1.2-py2.py3-none-any.whl size=15928 sha256=8563c20c059abc11d368488adba11eff800259600d8e85f74025e8966dbbda7e\n",
      "  Stored in directory: c:\\users\\kumar\\appdata\\local\\pip\\cache\\wheels\\66\\4f\\3c\\cbdf5336b5a84f39cb6e3d76eecb9acf3f99a2c072785afecc\n",
      "Successfully built pyforest\n",
      "Installing collected packages: pyforest\n",
      "Successfully installed pyforest-1.1.2\n"
     ]
    }
   ],
   "source": [
    "!pip install pyforest"
   ]
  },
  {
   "cell_type": "code",
   "execution_count": 5,
   "id": "8b184f01-ac3a-43c7-8dab-9b29d32e2022",
   "metadata": {},
   "outputs": [
    {
     "name": "stdout",
     "output_type": "stream",
     "text": [
      "Collecting pycaw\n",
      "  Downloading pycaw-20240210-py3-none-any.whl.metadata (1.7 kB)\n",
      "Requirement already satisfied: comtypes in c:\\users\\kumar\\anaconda3\\lib\\site-packages (from pycaw) (1.4.8)\n",
      "Requirement already satisfied: psutil in c:\\users\\kumar\\anaconda3\\lib\\site-packages (from pycaw) (5.9.0)\n",
      "Downloading pycaw-20240210-py3-none-any.whl (24 kB)\n",
      "Installing collected packages: pycaw\n",
      "Successfully installed pycaw-20240210\n"
     ]
    }
   ],
   "source": [
    "!pip install pycaw"
   ]
  },
  {
   "cell_type": "code",
   "execution_count": 5,
   "id": "61f0497b-5bbe-4531-ae20-ef301dc60696",
   "metadata": {},
   "outputs": [
    {
     "name": "stdout",
     "output_type": "stream",
     "text": [
      "Collecting mediapipe\n",
      "  Using cached mediapipe-0.10.14-cp312-cp312-win_amd64.whl.metadata (9.9 kB)\n",
      "Collecting absl-py (from mediapipe)\n",
      "  Using cached absl_py-2.1.0-py3-none-any.whl.metadata (2.3 kB)\n",
      "Requirement already satisfied: attrs>=19.1.0 in c:\\users\\kumar\\anaconda3\\lib\\site-packages (from mediapipe) (23.1.0)\n",
      "Requirement already satisfied: flatbuffers>=2.0 in c:\\users\\kumar\\anaconda3\\lib\\site-packages (from mediapipe) (24.3.25)\n",
      "Collecting jax (from mediapipe)\n",
      "  Using cached jax-0.4.34-py3-none-any.whl.metadata (22 kB)\n",
      "Collecting jaxlib (from mediapipe)\n",
      "  Using cached jaxlib-0.4.34-cp312-cp312-win_amd64.whl.metadata (1.0 kB)\n",
      "Requirement already satisfied: matplotlib in c:\\users\\kumar\\anaconda3\\lib\\site-packages (from mediapipe) (3.8.4)\n",
      "Requirement already satisfied: numpy in c:\\users\\kumar\\anaconda3\\lib\\site-packages (from mediapipe) (1.26.4)\n",
      "Collecting opencv-contrib-python (from mediapipe)\n",
      "  Using cached opencv_contrib_python-4.10.0.84-cp37-abi3-win_amd64.whl.metadata (20 kB)\n",
      "Requirement already satisfied: protobuf<5,>=4.25.3 in c:\\users\\kumar\\anaconda3\\lib\\site-packages (from mediapipe) (4.25.5)\n",
      "Collecting sounddevice>=0.4.4 (from mediapipe)\n",
      "  Using cached sounddevice-0.5.1-py3-none-win_amd64.whl.metadata (1.4 kB)\n",
      "Requirement already satisfied: CFFI>=1.0 in c:\\users\\kumar\\anaconda3\\lib\\site-packages (from sounddevice>=0.4.4->mediapipe) (1.16.0)\n",
      "Collecting ml-dtypes>=0.2.0 (from jax->mediapipe)\n",
      "  Using cached ml_dtypes-0.5.0-cp312-cp312-win_amd64.whl.metadata (22 kB)\n",
      "Requirement already satisfied: opt-einsum in c:\\users\\kumar\\anaconda3\\lib\\site-packages (from jax->mediapipe) (3.4.0)\n",
      "Requirement already satisfied: scipy>=1.10 in c:\\users\\kumar\\anaconda3\\lib\\site-packages (from jax->mediapipe) (1.13.1)\n",
      "Requirement already satisfied: contourpy>=1.0.1 in c:\\users\\kumar\\anaconda3\\lib\\site-packages (from matplotlib->mediapipe) (1.2.0)\n",
      "Requirement already satisfied: cycler>=0.10 in c:\\users\\kumar\\anaconda3\\lib\\site-packages (from matplotlib->mediapipe) (0.11.0)\n",
      "Requirement already satisfied: fonttools>=4.22.0 in c:\\users\\kumar\\anaconda3\\lib\\site-packages (from matplotlib->mediapipe) (4.51.0)\n",
      "Requirement already satisfied: kiwisolver>=1.3.1 in c:\\users\\kumar\\anaconda3\\lib\\site-packages (from matplotlib->mediapipe) (1.4.4)\n",
      "Requirement already satisfied: packaging>=20.0 in c:\\users\\kumar\\anaconda3\\lib\\site-packages (from matplotlib->mediapipe) (23.2)\n",
      "Requirement already satisfied: pillow>=8 in c:\\users\\kumar\\anaconda3\\lib\\site-packages (from matplotlib->mediapipe) (10.3.0)\n",
      "Requirement already satisfied: pyparsing>=2.3.1 in c:\\users\\kumar\\anaconda3\\lib\\site-packages (from matplotlib->mediapipe) (3.0.9)\n",
      "Requirement already satisfied: python-dateutil>=2.7 in c:\\users\\kumar\\anaconda3\\lib\\site-packages (from matplotlib->mediapipe) (2.9.0.post0)\n",
      "Requirement already satisfied: pycparser in c:\\users\\kumar\\anaconda3\\lib\\site-packages (from CFFI>=1.0->sounddevice>=0.4.4->mediapipe) (2.21)\n",
      "Requirement already satisfied: six>=1.5 in c:\\users\\kumar\\anaconda3\\lib\\site-packages (from python-dateutil>=2.7->matplotlib->mediapipe) (1.16.0)\n",
      "Using cached mediapipe-0.10.14-cp312-cp312-win_amd64.whl (50.8 MB)\n",
      "Using cached sounddevice-0.5.1-py3-none-win_amd64.whl (363 kB)\n",
      "Using cached absl_py-2.1.0-py3-none-any.whl (133 kB)\n",
      "Using cached jax-0.4.34-py3-none-any.whl (2.1 MB)\n",
      "Using cached jaxlib-0.4.34-cp312-cp312-win_amd64.whl (55.3 MB)\n",
      "Using cached opencv_contrib_python-4.10.0.84-cp37-abi3-win_amd64.whl (45.5 MB)\n",
      "Using cached ml_dtypes-0.5.0-cp312-cp312-win_amd64.whl (213 kB)\n",
      "Installing collected packages: opencv-contrib-python, ml-dtypes, absl-py, sounddevice, jaxlib, jax, mediapipe\n",
      "Successfully installed absl-py-2.1.0 jax-0.4.34 jaxlib-0.4.34 mediapipe-0.10.14 ml-dtypes-0.5.0 opencv-contrib-python-4.10.0.84 sounddevice-0.5.1\n"
     ]
    }
   ],
   "source": [
    "!pip install mediapipe"
   ]
  },
  {
   "cell_type": "code",
   "execution_count": 1,
   "id": "d581f618-1687-4825-ad9f-b41bac059e52",
   "metadata": {},
   "outputs": [
    {
     "name": "stdout",
     "output_type": "stream",
     "text": [
      "Collecting comtypes\n",
      "  Downloading comtypes-1.4.8-py3-none-any.whl.metadata (7.1 kB)\n",
      "Downloading comtypes-1.4.8-py3-none-any.whl (229 kB)\n",
      "   ---------------------------------------- 0.0/229.4 kB ? eta -:--:--\n",
      "   ---------------------------------------- 0.0/229.4 kB ? eta -:--:--\n",
      "   ---------------------------------------- 0.0/229.4 kB ? eta -:--:--\n",
      "   - -------------------------------------- 10.2/229.4 kB ? eta -:--:--\n",
      "   - -------------------------------------- 10.2/229.4 kB ? eta -:--:--\n",
      "   - -------------------------------------- 10.2/229.4 kB ? eta -:--:--\n",
      "   ------ -------------------------------- 41.0/229.4 kB 196.9 kB/s eta 0:00:01\n",
      "   ------------- ------------------------- 81.9/229.4 kB 353.1 kB/s eta 0:00:01\n",
      "   -------------------------------------  225.3/229.4 kB 808.4 kB/s eta 0:00:01\n",
      "   -------------------------------------  225.3/229.4 kB 808.4 kB/s eta 0:00:01\n",
      "   -------------------------------------  225.3/229.4 kB 808.4 kB/s eta 0:00:01\n",
      "   -------------------------------------  225.3/229.4 kB 808.4 kB/s eta 0:00:01\n",
      "   -------------------------------------  225.3/229.4 kB 808.4 kB/s eta 0:00:01\n",
      "   -------------------------------------- 229.4/229.4 kB 424.7 kB/s eta 0:00:00\n",
      "Installing collected packages: comtypes\n",
      "Successfully installed comtypes-1.4.8\n"
     ]
    }
   ],
   "source": [
    "!pip install comtypes"
   ]
  },
  {
   "cell_type": "code",
   "execution_count": 9,
   "id": "7daa7130-9d51-424c-8ab9-dabbabec9c53",
   "metadata": {},
   "outputs": [
    {
     "name": "stdout",
     "output_type": "stream",
     "text": [
      "Requirement already satisfied: opencv-python in c:\\users\\kumar\\anaconda3\\lib\\site-packages (4.10.0.84)\n",
      "Requirement already satisfied: numpy>=1.21.2 in c:\\users\\kumar\\anaconda3\\lib\\site-packages (from opencv-python) (1.26.4)\n"
     ]
    }
   ],
   "source": [
    "import sys\n",
    "!{sys.executable} -m pip install opencv-python"
   ]
  },
  {
   "cell_type": "code",
   "execution_count": 1,
   "id": "212635f8-d74b-4a2d-bb9f-ff9b9d3dac57",
   "metadata": {},
   "outputs": [
    {
     "name": "stderr",
     "output_type": "stream",
     "text": [
      "C:\\Users\\kumar\\anaconda3\\Lib\\site-packages\\google\\protobuf\\symbol_database.py:55: UserWarning: SymbolDatabase.GetPrototype() is deprecated. Please use message_factory.GetMessageClass() instead. SymbolDatabase.GetPrototype() will be removed soon.\n",
      "  warnings.warn('SymbolDatabase.GetPrototype() is deprecated. Please '\n"
     ]
    }
   ],
   "source": [
    "import cv2\n",
    "import mediapipe as mp\n",
    "import math \n",
    "import numpy\n",
    "\n",
    "from ctypes import cast,POINTER\n",
    "from comtypes import CLSCTX_ALL\n",
    "from pycaw.pycaw import AudioUtilities, IAudioEndpointVolume\n",
    "\n",
    "devices = AudioUtilities.GetSpeakers()\n",
    "interface = devices.Activate(IAudioEndpointVolume._iid_,CLSCTX_ALL,None)\n",
    "volume = cast(interface, POINTER(IAudioEndpointVolume))\n",
    "\n",
    "\n",
    "volume.SetMasterVolumeLevel(-37.0,None)\n",
    "\n",
    "capture = cv2.VideoCapture(0)\n",
    "\n",
    "mp_draw = mp.solutions.drawing_utils\n",
    "mp_hands = mp.solutions.hands\n",
    "hands = mp_hands.Hands()\n",
    "\n",
    "while True:\n",
    "    success,img = capture.read()\n",
    "    imgRGB = cv2.cvtColor(img,cv2.COLOR_BGR2RGB)\n",
    "    #detecting the palm\n",
    "    results = hands.process(imgRGB)\n",
    "    \"\"\"if palm has been detected successfully\n",
    "       we loop through the hand to select 2 finger tips needed\"\"\"\n",
    "    if results.multi_hand_landmarks:\n",
    "        for handLms in results.multi_hand_landmarks:\n",
    "            lmList = []\n",
    "            for id,lm in enumerate(handLms.landmark):\n",
    "                a, b, c = img.shape\n",
    "                cx,cy = int(lm.x*a) , int(lm.y*b)\n",
    "                lmList.append([id,cx,cy])\n",
    "                \n",
    "                #print(id,lm)\n",
    "                #mp_draw.draw_landmarks(img,handLms,mp_hands.HAND_CONNECTIONS)\n",
    "            if lmList:\n",
    "                #maps the co ordinates of the thumb\n",
    "                x1,y1 = lmList[4][1] , lmList[4][2]\n",
    "                #maps the co ordinates the fore finger\n",
    "                x2,y2 = lmList[8][1], lmList[8][2]\n",
    "                #highlights the thumb tip\n",
    "                cv2.circle(img,(x1,y1),15,(1,12,123),cv2.FILLED)\n",
    "                #highlights the finger tip\n",
    "                cv2.circle(img,(x2,y2),15,(1,12,123),cv2.FILLED)\n",
    "                cv2.line(img,(x1,y1),(x2,y2),(1,12,123),4)\n",
    "                z1,z2=(x1+x2)//2,(y1+y2)//2\n",
    "                distance = math.hypot(x2-x1,y2-y1)\n",
    "                \n",
    "            volRange = volume.GetVolumeRange()\n",
    "            minVol = volRange[0]\n",
    "            maxVol = volRange[1]\n",
    "            vol = numpy.interp(distance,[50,100],[minVol,maxVol])\n",
    "            volPer = numpy.interp(distance,[50,100],[0,100])\n",
    "            volBar = numpy.interp(distance,[50,300],[400,150])\n",
    "            \n",
    "            volume.SetMasterVolumeLevel(vol,None)\n",
    "            cv2.putText(img,str(int(volPer)),(40,450),cv2.FONT_HERSHEY_COMPLEX,3,(1,3,5),3)\n",
    "            cv2.rectangle(img,(50,150),(85,400),(123,213,122),3)\n",
    "            cv2.rectangle(img,(50,int(volBar)),(85,400),(0,231,23),cv2.FILLED)\n",
    "            \n",
    "                \n",
    "    cv2.imshow(\"Motion Sound Control\",img)\n",
    "    # Exit condition\n",
    "    if cv2.waitKey(1) & 0xFF == ord('q'):\n",
    "        break\n",
    "\n",
    "# Release resources and close windows\n",
    "capture.release()\n",
    "cv2.destroyAllWindows()\n",
    "\n",
    "    \n",
    "#length = 50-300 ---> vol = 0-100\n",
    "#lib  -37 to 0.0, my system's range --> 0-100\n",
    "\n",
    "#length - 50 ---> lib = -37 ---> system - 0\n",
    "#length - 300 ---> lib = 0.0 ---> system - 100\n"
   ]
  },
  {
   "cell_type": "code",
   "execution_count": null,
   "id": "4af4e180-4097-43f6-900e-325507068d77",
   "metadata": {},
   "outputs": [],
   "source": []
  }
 ],
 "metadata": {
  "kernelspec": {
   "display_name": "Python 3 (ipykernel)",
   "language": "python",
   "name": "python3"
  },
  "language_info": {
   "codemirror_mode": {
    "name": "ipython",
    "version": 3
   },
   "file_extension": ".py",
   "mimetype": "text/x-python",
   "name": "python",
   "nbconvert_exporter": "python",
   "pygments_lexer": "ipython3",
   "version": "3.12.4"
  }
 },
 "nbformat": 4,
 "nbformat_minor": 5
}
